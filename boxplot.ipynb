{
 "cells": [
  {
   "cell_type": "code",
   "execution_count": 106,
   "metadata": {},
   "outputs": [],
   "source": [
    "#https://machinelearningmastery.com/time-series-data-visualization-with-python/\n",
    "#https://nbviewer.jupyter.org/url/pbpython.com/extras/Combining-Multiple-Excel-File-with-Pandas.ipynb\n",
    "#https://pbpython.com/excel-file-combine.html\n",
    "import seaborn as sns\n",
    "import pandas as pd\n",
    "import numpy as np\n",
    "import matplotlib.pyplot as plt"
   ]
  },
  {
   "cell_type": "code",
   "execution_count": 21,
   "metadata": {},
   "outputs": [
    {
     "name": "stdout",
     "output_type": "stream",
     "text": [
      " Volume in drive C has no label.\n",
      " Volume Serial Number is EE71-94F8\n",
      "\n",
      " Directory of C:\\Users\\swang\\Python\\Project\\Boxplot\n",
      "\n",
      "04/17/2019  01:58 PM    <DIR>          .\n",
      "04/17/2019  01:58 PM    <DIR>          ..\n",
      "04/17/2019  11:09 AM    <DIR>          .ipynb_checkpoints\n",
      "04/17/2019  01:53 PM             5,134 boxplot.ipynb\n",
      "04/17/2019  12:47 PM            55,889 daily-minimum-temperatures.csv\n",
      "12/19/2017  04:54 PM         1,027,240 MMI-Dec 2017 - Data File.xlsx\n",
      "03/25/2019  12:44 PM         1,098,300 MMI-December 2018 Datafile.xlsx\n",
      "06/26/2018  03:04 PM         1,106,739 MMI-Jun 2018 - Data File.xlsx\n",
      "04/17/2019  01:56 PM         1,109,469 MMI-June 2017 - Data File.xlsx\n",
      "03/26/2018  04:15 PM         1,035,302 MMI-Mar 2018 - Data File.xlsx\n",
      "04/17/2019  01:57 PM         1,190,569 MMI-March 2017 - Data File.xlsx\n",
      "03/25/2019  11:36 AM         1,185,637 MMI-March 2019 Datafile.xlsx\n",
      "09/27/2017  02:33 PM         1,115,753 MMI-Sept 2017 - Data File.xlsx\n",
      "09/13/2018  01:51 PM         1,155,454 MMI-Sept 2018 - Data File.xlsx\n",
      "              11 File(s)     10,085,486 bytes\n",
      "               3 Dir(s)  122,029,092,864 bytes free\n"
     ]
    }
   ],
   "source": [
    "#https://stackoverflow.com/questions/49032646/ls-is-not-recognized-as-an-internal-or-external-command-operable-program-or-b/49032775\n",
    "!dir"
   ]
  },
  {
   "cell_type": "code",
   "execution_count": 32,
   "metadata": {},
   "outputs": [
    {
     "data": {
      "text/plain": [
       "['MMI-Dec 2017_4.xlsx',\n",
       " 'MMI-December 2018_8.xlsx',\n",
       " 'MMI-Jun 2018_6.xlsx',\n",
       " 'MMI-June 2017_2.xlsx',\n",
       " 'MMI-Mar 2018_5.xlsx',\n",
       " 'MMI-March 2017_1.xlsx',\n",
       " 'MMI-March 2019_9.xlsx',\n",
       " 'MMI-Sept 2017_3.xlsx',\n",
       " 'MMI-Sept 2018_7.xlsx']"
      ]
     },
     "execution_count": 32,
     "metadata": {},
     "output_type": "execute_result"
    }
   ],
   "source": [
    "import glob\n",
    "listFiles=glob.glob(\"*.xlsx\")\n",
    "listFiles.sort()\n",
    "listFiles"
   ]
  },
  {
   "cell_type": "code",
   "execution_count": 52,
   "metadata": {},
   "outputs": [],
   "source": [
    "# create a dataframe\n",
    "all_data=pd.DataFrame()\n",
    "# append each excel file to the \"all_data\"\n",
    "for file in listFiles:\n",
    "    df=pd.read_excel(file)\n",
    "    all_data=all_data.append(df,ignore_index=True)  \n",
    "all_data.to_excel('merged.xlsx',sheet_name='past 9 waves')"
   ]
  },
  {
   "cell_type": "code",
   "execution_count": 53,
   "metadata": {},
   "outputs": [
    {
     "data": {
      "text/plain": [
       "(9007, 910)"
      ]
     },
     "execution_count": 53,
     "metadata": {},
     "output_type": "execute_result"
    }
   ],
   "source": [
    "# Check shape\n",
    "all_data.shape"
   ]
  },
  {
   "cell_type": "code",
   "execution_count": 155,
   "metadata": {},
   "outputs": [],
   "source": [
    "#all_data.columns"
   ]
  },
  {
   "cell_type": "code",
   "execution_count": 153,
   "metadata": {},
   "outputs": [],
   "source": [
    "# Rename to q1-revenue growth no outliers\n",
    "all=all_data.rename(columns={\"Q.1 - % Change in Company's Current Gross Revenues Compared to 1 Year Ago - Use for Calculation of Mean\":\"q1-revenue growth no outliers in %\"})"
   ]
  },
  {
   "cell_type": "code",
   "execution_count": 154,
   "metadata": {},
   "outputs": [],
   "source": [
    "# label wave\n",
    "def wave(wave):\n",
    "    if wave==21:\n",
    "        return '2017 Q1'\n",
    "    elif wave==22:\n",
    "        return '2017 Q2'\n",
    "    elif wave==23:\n",
    "        return '2017 Q3'\n",
    "    elif wave==24:\n",
    "        return '2017 Q4'\n",
    "    elif wave==25:\n",
    "        return '2018 Q1'\n",
    "    elif wave==26:\n",
    "        return '2018 Q2'\n",
    "    elif wave==27:\n",
    "        return '2018 Q3'\n",
    "    elif wave==28:\n",
    "        return '2018 Q4'\n",
    "    elif wave==29:\n",
    "        return '2019 Q1'\n",
    "all['wavelabel']=all['Wave'].apply(wave)\n",
    "#all.sort_values(by=['wavelabel'])"
   ]
  },
  {
   "cell_type": "code",
   "execution_count": 151,
   "metadata": {},
   "outputs": [
    {
     "data": {
      "image/png": "[encoded data removed]",
      "text/plain": [
       "<matplotlib.figure.Figure at 0x2dfc7082438>"
      ]
     },
     "metadata": {},
     "output_type": "display_data"
    }
   ],
   "source": [
    "# Below is to include all the data point\n",
    "#ax=sns.swarmplot(x=\"Wave\",y=\"q1-revenue growth no outliers in %\",data=all,color=\".25\")\n",
    "# Boxplot not showing outliers\n",
    "sns.set(rc={'figure.figsize':(15,10)})\n",
    "waveOrder=[\"2017 Q1\",\"2017 Q2\",\"2017 Q3\",\"2017 Q4\",\"2018 Q1\",\"2018 Q2\",\"2018 Q3\",\"2018 Q4\", \"2019 Q1\"]\n",
    "# False if dont want to show outliers\n",
    "myboxplot=sns.boxplot(x=\"wavelabel\",y=\"q1-revenue growth no outliers in %\",data=all,showfliers=True, order=waveOrder) \n",
    "myboxplot.set_xlabel(\"Wave\",fontsize=20)\n",
    "myboxplot.set_ylabel(\"Revenue Growth Rate %\",fontsize=20)\n",
    "myboxplot.tick_params(labelsize=10)"
   ]
  },
  {
   "cell_type": "markdown",
   "metadata": {},
   "source": [
    "# Below is an example of dataframe append method"
   ]
  },
  {
   "cell_type": "code",
   "execution_count": 46,
   "metadata": {},
   "outputs": [
    {
     "data": {
      "text/html": [
       "<div>\n",
       "<style scoped>\n",
       "    .dataframe tbody tr th:only-of-type {\n",
       "        vertical-align: middle;\n",
       "    }\n",
       "\n",
       "    .dataframe tbody tr th {\n",
       "        vertical-align: top;\n",
       "    }\n",
       "\n",
       "    .dataframe thead th {\n",
       "        text-align: right;\n",
       "    }\n",
       "</style>\n",
       "<table border=\"1\" class=\"dataframe\">\n",
       "  <thead>\n",
       "    <tr style=\"text-align: right;\">\n",
       "      <th></th>\n",
       "      <th>A</th>\n",
       "      <th>B</th>\n",
       "    </tr>\n",
       "  </thead>\n",
       "  <tbody>\n",
       "    <tr>\n",
       "      <th>0</th>\n",
       "      <td>1</td>\n",
       "      <td>2</td>\n",
       "    </tr>\n",
       "    <tr>\n",
       "      <th>1</th>\n",
       "      <td>3</td>\n",
       "      <td>4</td>\n",
       "    </tr>\n",
       "  </tbody>\n",
       "</table>\n",
       "</div>"
      ],
      "text/plain": [
       "   A  B\n",
       "0  1  2\n",
       "1  3  4"
      ]
     },
     "execution_count": 46,
     "metadata": {},
     "output_type": "execute_result"
    }
   ],
   "source": [
    "# create a df 1\n",
    "df1 = pd.DataFrame([[1, 2], [3, 4]], columns=list('AB'))\n",
    "df1"
   ]
  },
  {
   "cell_type": "code",
   "execution_count": 50,
   "metadata": {},
   "outputs": [
    {
     "data": {
      "text/html": [
       "<div>\n",
       "<style scoped>\n",
       "    .dataframe tbody tr th:only-of-type {\n",
       "        vertical-align: middle;\n",
       "    }\n",
       "\n",
       "    .dataframe tbody tr th {\n",
       "        vertical-align: top;\n",
       "    }\n",
       "\n",
       "    .dataframe thead th {\n",
       "        text-align: right;\n",
       "    }\n",
       "</style>\n",
       "<table border=\"1\" class=\"dataframe\">\n",
       "  <thead>\n",
       "    <tr style=\"text-align: right;\">\n",
       "      <th></th>\n",
       "      <th>A</th>\n",
       "      <th>C</th>\n",
       "      <th>D</th>\n",
       "    </tr>\n",
       "  </thead>\n",
       "  <tbody>\n",
       "    <tr>\n",
       "      <th>0</th>\n",
       "      <td>5</td>\n",
       "      <td>6</td>\n",
       "      <td>99</td>\n",
       "    </tr>\n",
       "    <tr>\n",
       "      <th>1</th>\n",
       "      <td>7</td>\n",
       "      <td>8</td>\n",
       "      <td>1010</td>\n",
       "    </tr>\n",
       "  </tbody>\n",
       "</table>\n",
       "</div>"
      ],
      "text/plain": [
       "   A  C     D\n",
       "0  5  6    99\n",
       "1  7  8  1010"
      ]
     },
     "execution_count": 50,
     "metadata": {},
     "output_type": "execute_result"
    }
   ],
   "source": [
    "# create a df 2\n",
    "df2 = pd.DataFrame([[5, 6, 99], [7, 8, 1010]], columns=list('ACD'))\n",
    "df2"
   ]
  },
  {
   "cell_type": "code",
   "execution_count": 51,
   "metadata": {},
   "outputs": [
    {
     "data": {
      "text/html": [
       "<div>\n",
       "<style scoped>\n",
       "    .dataframe tbody tr th:only-of-type {\n",
       "        vertical-align: middle;\n",
       "    }\n",
       "\n",
       "    .dataframe tbody tr th {\n",
       "        vertical-align: top;\n",
       "    }\n",
       "\n",
       "    .dataframe thead th {\n",
       "        text-align: right;\n",
       "    }\n",
       "</style>\n",
       "<table border=\"1\" class=\"dataframe\">\n",
       "  <thead>\n",
       "    <tr style=\"text-align: right;\">\n",
       "      <th></th>\n",
       "      <th>A</th>\n",
       "      <th>B</th>\n",
       "      <th>C</th>\n",
       "      <th>D</th>\n",
       "    </tr>\n",
       "  </thead>\n",
       "  <tbody>\n",
       "    <tr>\n",
       "      <th>0</th>\n",
       "      <td>1</td>\n",
       "      <td>2.0</td>\n",
       "      <td>NaN</td>\n",
       "      <td>NaN</td>\n",
       "    </tr>\n",
       "    <tr>\n",
       "      <th>1</th>\n",
       "      <td>3</td>\n",
       "      <td>4.0</td>\n",
       "      <td>NaN</td>\n",
       "      <td>NaN</td>\n",
       "    </tr>\n",
       "    <tr>\n",
       "      <th>2</th>\n",
       "      <td>5</td>\n",
       "      <td>NaN</td>\n",
       "      <td>6.0</td>\n",
       "      <td>99.0</td>\n",
       "    </tr>\n",
       "    <tr>\n",
       "      <th>3</th>\n",
       "      <td>7</td>\n",
       "      <td>NaN</td>\n",
       "      <td>8.0</td>\n",
       "      <td>1010.0</td>\n",
       "    </tr>\n",
       "  </tbody>\n",
       "</table>\n",
       "</div>"
      ],
      "text/plain": [
       "   A    B    C       D\n",
       "0  1  2.0  NaN     NaN\n",
       "1  3  4.0  NaN     NaN\n",
       "2  5  NaN  6.0    99.0\n",
       "3  7  NaN  8.0  1010.0"
      ]
     },
     "execution_count": 51,
     "metadata": {},
     "output_type": "execute_result"
    }
   ],
   "source": [
    "# append df2 to df1 (stack them up, new column will become new columns)\n",
    "df1.append(df2, ignore_index=True)"
   ]
  },
  {
   "cell_type": "code",
   "execution_count": null,
   "metadata": {},
   "outputs": [],
   "source": []
  }
 ],
 "metadata": {
  "kernelspec": {
   "display_name": "Python 3",
   "language": "python",
   "name": "python3"
  },
  "language_info": {
   "codemirror_mode": {
    "name": "ipython",
    "version": 3
   },
   "file_extension": ".py",
   "mimetype": "text/x-python",
   "name": "python",
   "nbconvert_exporter": "python",
   "pygments_lexer": "ipython3",
   "version": "3.6.4"
  }
 },
 "nbformat": 4,
 "nbformat_minor": 2
}
