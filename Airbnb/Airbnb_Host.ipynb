{
 "cells": [
  {
   "cell_type": "code",
   "execution_count": 2,
   "metadata": {},
   "outputs": [],
   "source": [
    "import seaborn as sns\n",
    "#import pandas\n",
    "import pandas as pd\n",
    "import numpy as np"
   ]
  },
  {
   "cell_type": "code",
   "execution_count": 3,
   "metadata": {},
   "outputs": [],
   "source": [
    "# Read dataset\n",
    "#host=pd.read_excel('Guest.xlsx', sheet_name='A1',index_col=0)\n",
    "host=pd.read_excel('Host.xlsx', sheet_name='A1')"
   ]
  },
  {
   "cell_type": "code",
   "execution_count": 4,
   "metadata": {},
   "outputs": [
    {
     "data": {
      "text/html": [
       "<div>\n",
       "<style scoped>\n",
       "    .dataframe tbody tr th:only-of-type {\n",
       "        vertical-align: middle;\n",
       "    }\n",
       "\n",
       "    .dataframe tbody tr th {\n",
       "        vertical-align: top;\n",
       "    }\n",
       "\n",
       "    .dataframe thead th {\n",
       "        text-align: right;\n",
       "    }\n",
       "</style>\n",
       "<table border=\"1\" class=\"dataframe\">\n",
       "  <thead>\n",
       "    <tr style=\"text-align: right;\">\n",
       "      <th></th>\n",
       "      <th>vrec</th>\n",
       "      <th>s1ar1</th>\n",
       "      <th>s1ar2</th>\n",
       "      <th>s1ar3</th>\n",
       "      <th>s1ar4</th>\n",
       "      <th>s1ar5</th>\n",
       "      <th>s1ar6</th>\n",
       "      <th>s1ar7</th>\n",
       "      <th>s1b</th>\n",
       "      <th>vRegion</th>\n",
       "      <th>...</th>\n",
       "      <th>q7dr1</th>\n",
       "      <th>q7dr2</th>\n",
       "      <th>q7dr3</th>\n",
       "      <th>q7dr4</th>\n",
       "      <th>q7dr5</th>\n",
       "      <th>q7e</th>\n",
       "      <th>q7f</th>\n",
       "      <th>q7g</th>\n",
       "      <th>s2bNew</th>\n",
       "      <th>vChange</th>\n",
       "    </tr>\n",
       "  </thead>\n",
       "  <tbody>\n",
       "    <tr>\n",
       "      <th>0</th>\n",
       "      <td>20000003</td>\n",
       "      <td>0</td>\n",
       "      <td>0</td>\n",
       "      <td>0</td>\n",
       "      <td>0</td>\n",
       "      <td>0</td>\n",
       "      <td>0</td>\n",
       "      <td>1</td>\n",
       "      <td>5</td>\n",
       "      <td>4</td>\n",
       "      <td>...</td>\n",
       "      <td>NaN</td>\n",
       "      <td>NaN</td>\n",
       "      <td>NaN</td>\n",
       "      <td>NaN</td>\n",
       "      <td>NaN</td>\n",
       "      <td>5</td>\n",
       "      <td>1</td>\n",
       "      <td>3</td>\n",
       "      <td>NaN</td>\n",
       "      <td>1</td>\n",
       "    </tr>\n",
       "    <tr>\n",
       "      <th>1</th>\n",
       "      <td>20000004</td>\n",
       "      <td>0</td>\n",
       "      <td>0</td>\n",
       "      <td>0</td>\n",
       "      <td>0</td>\n",
       "      <td>0</td>\n",
       "      <td>0</td>\n",
       "      <td>1</td>\n",
       "      <td>10</td>\n",
       "      <td>3</td>\n",
       "      <td>...</td>\n",
       "      <td>NaN</td>\n",
       "      <td>NaN</td>\n",
       "      <td>NaN</td>\n",
       "      <td>NaN</td>\n",
       "      <td>NaN</td>\n",
       "      <td>4</td>\n",
       "      <td>1</td>\n",
       "      <td>2</td>\n",
       "      <td>NaN</td>\n",
       "      <td>1</td>\n",
       "    </tr>\n",
       "    <tr>\n",
       "      <th>2</th>\n",
       "      <td>20000020</td>\n",
       "      <td>0</td>\n",
       "      <td>0</td>\n",
       "      <td>0</td>\n",
       "      <td>0</td>\n",
       "      <td>0</td>\n",
       "      <td>0</td>\n",
       "      <td>1</td>\n",
       "      <td>3</td>\n",
       "      <td>4</td>\n",
       "      <td>...</td>\n",
       "      <td>NaN</td>\n",
       "      <td>NaN</td>\n",
       "      <td>NaN</td>\n",
       "      <td>NaN</td>\n",
       "      <td>NaN</td>\n",
       "      <td>4</td>\n",
       "      <td>1</td>\n",
       "      <td>3</td>\n",
       "      <td>NaN</td>\n",
       "      <td>1</td>\n",
       "    </tr>\n",
       "    <tr>\n",
       "      <th>3</th>\n",
       "      <td>20000052</td>\n",
       "      <td>0</td>\n",
       "      <td>0</td>\n",
       "      <td>0</td>\n",
       "      <td>0</td>\n",
       "      <td>0</td>\n",
       "      <td>0</td>\n",
       "      <td>1</td>\n",
       "      <td>9</td>\n",
       "      <td>3</td>\n",
       "      <td>...</td>\n",
       "      <td>NaN</td>\n",
       "      <td>NaN</td>\n",
       "      <td>NaN</td>\n",
       "      <td>NaN</td>\n",
       "      <td>NaN</td>\n",
       "      <td>5</td>\n",
       "      <td>1</td>\n",
       "      <td>4</td>\n",
       "      <td>NaN</td>\n",
       "      <td>1</td>\n",
       "    </tr>\n",
       "    <tr>\n",
       "      <th>4</th>\n",
       "      <td>20000054</td>\n",
       "      <td>0</td>\n",
       "      <td>0</td>\n",
       "      <td>0</td>\n",
       "      <td>0</td>\n",
       "      <td>0</td>\n",
       "      <td>0</td>\n",
       "      <td>1</td>\n",
       "      <td>5</td>\n",
       "      <td>4</td>\n",
       "      <td>...</td>\n",
       "      <td>NaN</td>\n",
       "      <td>NaN</td>\n",
       "      <td>NaN</td>\n",
       "      <td>NaN</td>\n",
       "      <td>NaN</td>\n",
       "      <td>4</td>\n",
       "      <td>2</td>\n",
       "      <td>1</td>\n",
       "      <td>NaN</td>\n",
       "      <td>1</td>\n",
       "    </tr>\n",
       "  </tbody>\n",
       "</table>\n",
       "<p>5 rows × 476 columns</p>\n",
       "</div>"
      ],
      "text/plain": [
       "       vrec  s1ar1  s1ar2  s1ar3  s1ar4  s1ar5  s1ar6  s1ar7  s1b  vRegion  \\\n",
       "0  20000003      0      0      0      0      0      0      1    5        4   \n",
       "1  20000004      0      0      0      0      0      0      1   10        3   \n",
       "2  20000020      0      0      0      0      0      0      1    3        4   \n",
       "3  20000052      0      0      0      0      0      0      1    9        3   \n",
       "4  20000054      0      0      0      0      0      0      1    5        4   \n",
       "\n",
       "    ...     q7dr1  q7dr2  q7dr3  q7dr4  q7dr5  q7e  q7f  q7g  s2bNew  vChange  \n",
       "0   ...       NaN    NaN    NaN    NaN    NaN    5    1    3     NaN        1  \n",
       "1   ...       NaN    NaN    NaN    NaN    NaN    4    1    2     NaN        1  \n",
       "2   ...       NaN    NaN    NaN    NaN    NaN    4    1    3     NaN        1  \n",
       "3   ...       NaN    NaN    NaN    NaN    NaN    5    1    4     NaN        1  \n",
       "4   ...       NaN    NaN    NaN    NaN    NaN    4    2    1     NaN        1  \n",
       "\n",
       "[5 rows x 476 columns]"
      ]
     },
     "execution_count": 4,
     "metadata": {},
     "output_type": "execute_result"
    }
   ],
   "source": [
    "# Get the first few rows of dataset\n",
    "host.head()"
   ]
  },
  {
   "cell_type": "code",
   "execution_count": 5,
   "metadata": {},
   "outputs": [
    {
     "data": {
      "text/plain": [
       "(606, 476)"
      ]
     },
     "execution_count": 5,
     "metadata": {},
     "output_type": "execute_result"
    }
   ],
   "source": [
    "host.shape"
   ]
  },
  {
   "cell_type": "code",
   "execution_count": 6,
   "metadata": {},
   "outputs": [
    {
     "data": {
      "text/plain": [
       "RangeIndex(start=0, stop=606, step=1)"
      ]
     },
     "execution_count": 6,
     "metadata": {},
     "output_type": "execute_result"
    }
   ],
   "source": [
    "host.index"
   ]
  },
  {
   "cell_type": "code",
   "execution_count": 7,
   "metadata": {},
   "outputs": [
    {
     "data": {
      "text/plain": [
       "Index(['vrec', 's1ar1', 's1ar2', 's1ar3', 's1ar4', 's1ar5', 's1ar6', 's1ar7',\n",
       "       's1b', 'vRegion',\n",
       "       ...\n",
       "       'q7dr1', 'q7dr2', 'q7dr3', 'q7dr4', 'q7dr5', 'q7e', 'q7f', 'q7g',\n",
       "       's2bNew', 'vChange'],\n",
       "      dtype='object', length=476)"
      ]
     },
     "execution_count": 7,
     "metadata": {},
     "output_type": "execute_result"
    }
   ],
   "source": [
    "host.columns"
   ]
  },
  {
   "cell_type": "code",
   "execution_count": 8,
   "metadata": {},
   "outputs": [],
   "source": [
    "# Check the shape row by column\n",
    "host.shape\n",
    "# Write to excel file\n",
    "host.head().to_excel('HostHead.xlsx', sheet_name='testHead')"
   ]
  },
  {
   "cell_type": "code",
   "execution_count": 9,
   "metadata": {},
   "outputs": [],
   "source": [
    "#columnsToKeep=['record',\t's1ar1',\t's1ar2',\t's1ar3',\t's1ar4',\t's1ar5',\t's1ar6',\t's1ar7',\t's1b',\t'vRegion',\t's1c',\t'vCell',\t's1d',\t'vAge',\t's2a',\t's2br1',\t's2br2',\t's2br3',\t's2br4',\t's2br5',\t's2br6',\t's2c',\t's2d',\t'h1a',\t'h1br1',\t'h1br2',\t'h1br3',\t'h2a',\t'h2br1',\t'h2br2',\t'h2br3',\t'h2br4',\t'h2br5',\t'h2br6',\t'h2br6oe',\t'h3a',\t'h3b',\t'h3c',\t'h3dr1',\t'h3dr2',\t'h3dr3',\t'h3dr4',\t'h3dr5',\t'h3dr6',\t'h3dr7',\t'h3dr7oe',\t'h3er1',\t'h3er2',\t'h3er3',\t'h3er4',\t'h3er5',\t'h3er6',\t'h3f',\t'vCell_Imager1',\t'vCell_Imager2',\t'vCell_Imagenone',\t'vCell_Backr1',\t'vCell_Backr2',\t'vCell_Backnone',\t'vCell_Textr1',\t'vCell_Textr2',\t'vCell_Textnone',\t'h5b',\t'h5c',\t'h5d_creditr1',\t'h5d_creditr2',\t'h5d_creditr3',\t'h5d_creditr4',\t'h5d_creditr5',\t'h5d_creditr6',\t'h5d_creditr7',\t'h5d_creditr8',\t'h5d_creditr9',\t'h5d_creditr10',\t'h5d_creditr11',\t'h5d_creditr12',\t'h5d_creditr13',\t'h5d_creditr14',\t'h5d_creditr15',\t'h5d_creditr16',\t'h5d_creditr17',\t'h5d_creditr18',\t'h5d_creditr19',\t'h5d_creditr20',\t'h5d_creditr21',\t'h5d_creditr22',\t'h5d_creditr23',\t'h5d_creditr24',\t'h5d_creditr25',\t'h5d_creditr26',\t'h5d_creditr27',\t'h5d_creditr28',\t'h5d_creditr29',\t'h5d_creditr30',\t'h5d_creditr31',\t'h5d_creditr32',\t'h5d_creditr33',\t'h5d_creditr34',\t'h5d_creditr35',\t'h5d_creditr36',\t'h5d_creditr37',\t'h5d_creditr38',\t'h5d_creditr39',\t'h5d_creditr40',\t'h5d_creditr41',\t'h5d_creditr42',\t'h5d_creditr43',\t'h5d_creditr44',\t'h5d_creditr45',\t'h5d_creditr46',\t'h5d_creditr47',\t'h5d_creditr48',\t'h5d_creditr49',\t'h5d_creditr50',\t'h5d_creditr51',\t'h5d_creditr52',\t'h5d_creditr53',\t'h5d_creditr54',\t'h5d_creditr55',\t'h5d_creditr56',\t'h5d_creditr57',\t'h5d_creditr58',\t'h5d_creditr59',\t'h5d_creditr60',\t'h5d_creditr61',\t'h5d_creditr62',\t'h5d_creditr63',\t'h5d_creditr64',\t'h5d_creditr65',\t'h5d_creditr66',\t'h5d_creditr67',\t'h5d_creditr68',\t'h5d_creditr69',\t'h5d_creditr70',\t'h5d_creditr71',\t'h5d_creditr72',\t'h5d_creditr73',\t'h5d_creditr74',\t'h5d_creditr75',\t'h5d_creditr76',\t'h5d_creditr77',\t'h5d_creditr78',\t'h5d_creditr79',\t'h5d_creditr80',\t'h5d_creditr81',\t'h5d_creditr82',\t'h5d_creditr83',\t'h5d_creditr84',\t'h5d_creditr85',\t'h5d_creditr86',\t'h5d_creditr87',\t'h5d_creditr88',\t'h5d_creditr89',\t'h5d_creditr90',\t'h5d_creditr91',\t'h5d_creditr92',\t'h5d_creditr93',\t'h5d_creditr94',\t'h5d_creditr95',\t'h5d_creditr96',\t'h5d_creditr97',\t'h5d_creditr98',\t'h5d_creditr99',\t'h5d_creditr100',\t'h5d_creditr101',\t'h5d_creditr102',\t'h5d_creditr103',\t'h5d_creditr104',\t'h5d_creditr105',\t'h5d_creditr106',\t'h5d_creditr107',\t'h5d_creditr108',\t'h5d_creditr109',\t'h5d_creditr110',\t'h5d_creditr111',\t'h5d_creditr112',\t'h5d_creditr113',\t'h5d_creditr114',\t'h5d_creditr115',\t'h5d_creditr116',\t'h5d_creditr117',\t'h5d_creditr118',\t'h5d_creditr119',\t'h5d_creditr120',\t'h5d_creditr121',\t'h5d_creditr122',\t'h5d_creditr123',\t'h5d_creditr124',\t'h5d_creditr125',\t'h5d_creditr126',\t'h5d_creditr127',\t'h5d_creditr128',\t'h5d_creditr129',\t'h5d_creditr130',\t'h5d_creditr131',\t'h5d_creditr132',\t'h5d_creditr133',\t'h5d_creditr134',\t'h5d_creditr135',\t'h5d_creditr136',\t'h5d_creditr137',\t'h5d_creditr138',\t'h5d_creditr139',\t'h5d_creditr140',\t'h5d_creditr141',\t'h5d_creditr142',\t'h5d_creditr143',\t'h5d_creditr144',\t'h5d_creditr145',\t'h5d_creditr146',\t'h5d_creditr147',\t'h5d_creditr148',\t'h5d_creditr149',\t'h5d_creditr150',\t'h5d_creditr151',\t'h5d_creditr152',\t'h5d_creditr153',\t'h5d_creditr154',\t'h5d_creditr155',\t'h5d_creditr156',\t'h5d_creditr157',\t'h5d_creditr158',\t'h5d_creditr159',\t'h5d_creditr160',\t'h5d_creditr161',\t'h5d_creditr162',\t'h5d_creditr163',\t'h5d_creditr164',\t'h5d_creditr165',\t'h5d_creditr166',\t'h5d_creditr167',\t'h5d_creditr168',\t'h5d_creditr169',\t'h5d_creditr170',\t'h5d_creditr171',\t'h5d_creditr172',\t'h5d_creditr173',\t'h5d_creditr174',\t'h5d_creditr175',\t'h5d_creditr176',\t'h5d_creditr177',\t'h5d_creditr178',\t'h5d_creditr179',\t'h5d_virtualr1',\t'h5d_virtualr2',\t'h5d_virtualr3',\t'h5d_virtualr4',\t'h5d_virtualr5',\t'h5d_virtualr6',\t'h5d_virtualr7',\t'h5d_virtualr8',\t'h5d_virtualr9',\t'h5d_virtualr10',\t'h5d_virtualr11',\t'h5d_virtualr12',\t'h5d_virtualr13',\t'h5d_virtualr14',\t'h5d_virtualr15',\t'h5d_virtualr16',\t'h5d_virtualr17',\t'h5d_virtualr18',\t'h5d_virtualr19',\t'h5d_virtualr20',\t'h5d_virtualr21',\t'h5d_virtualr22',\t'h5d_virtualr23',\t'h5d_virtualr24',\t'h5d_virtualr25',\t'h5d_virtualr26',\t'h5d_virtualr27',\t'h5d_virtualr28',\t'h5d_virtualr29',\t'h5d_virtualr30',\t'h5d_virtualr31',\t'h5d_virtualr32',\t'h5d_virtualr33',\t'h5d_virtualr34',\t'h5d_virtualr35',\t'h5d_virtualr36',\t'h5d_virtualr37',\t'h5d_virtualr38',\t'h5d_virtualr39',\t'h5d_virtualr40',\t'h5d_virtualr41',\t'h5d_virtualr42',\t'h5d_virtualr43',\t'h5d_virtualr44',\t'h5d_virtualr45',\t'h5d_virtualr46',\t'h5d_virtualr47',\t'h5d_virtualr48',\t'h5d_virtualr49',\t'h5d_virtualr50',\t'h5d_virtualr51',\t'h5d_virtualr52',\t'h5d_virtualr53',\t'h5d_virtualr54',\t'h5d_virtualr55',\t'h5d_virtualr56',\t'h5d_virtualr57',\t'h5d_virtualr58',\t'h5d_virtualr59',\t'h5d_virtualr60',\t'h5d_virtualr61',\t'h5d_virtualr62',\t'h5d_virtualr63',\t'h5d_virtualr64',\t'h5d_virtualr65',\t'h5d_virtualr66',\t'h5d_virtualr67',\t'h5d_virtualr68',\t'h5d_virtualr69',\t'h5d_virtualr70',\t'h5d_virtualr71',\t'h5d_virtualr72',\t'h5d_virtualr73',\t'h5d_virtualr74',\t'h5d_virtualr75',\t'h5d_virtualr76',\t'h5d_virtualr77',\t'h5d_virtualr78',\t'h5d_virtualr79',\t'h5d_virtualr80',\t'h5d_virtualr81',\t'h5d_virtualr82',\t'h5d_virtualr83',\t'h5d_virtualr84',\t'h5d_virtualr85',\t'h5d_virtualr86',\t'h5d_virtualr87',\t'h5d_virtualr88',\t'h5d_virtualr89',\t'h5d_virtualr90',\t'h5d_virtualr91',\t'h5d_virtualr92',\t'h5d_virtualr93',\t'h5d_virtualr94',\t'h5d_virtualr95',\t'h5d_virtualr96',\t'h5d_virtualr97',\t'h5d_virtualr98',\t'h5d_virtualr99',\t'h5d_virtualr100',\t'h5d_virtualr101',\t'h5d_virtualr102',\t'h5d_virtualr103',\t'h5d_virtualr104',\t'h5d_virtualr105',\t'h5d_virtualr106',\t'h5d_virtualr107',\t'h5d_virtualr108',\t'h5d_virtualr109',\t'h5d_virtualr110',\t'h5d_virtualr111',\t'h5d_virtualr112',\t'h5d_virtualr113',\t'h5d_virtualr114',\t'h5d_virtualr115',\t'h5d_virtualr116',\t'h5d_virtualr117',\t'h5d_virtualr118',\t'h5d_virtualr119',\t'h5d_virtualr120',\t'h5d_virtualr121',\t'h5d_virtualr122',\t'h5d_virtualr123',\t'h5d_virtualr124',\t'h5d_virtualr125',\t'h5d_virtualr126',\t'h5d_virtualr127',\t'h5d_virtualr128',\t'h5d_virtualr129',\t'h5d_virtualr130',\t'h5d_virtualr131',\t'h5d_virtualr132',\t'h5d_virtualr133',\t'h5d_virtualr134',\t'h5d_virtualr135',\t'h5d_virtualr136',\t'h5d_virtualr137',\t'h5d_virtualr138',\t'h5d_virtualr139',\t'h5d_virtualr140',\t'h5d_virtualr141',\t'h5d_virtualr142',\t'h5d_virtualr143',\t'h5d_virtualr144',\t'h5d_virtualr145',\t'h5d_virtualr146',\t'h5d_virtualr147',\t'h5d_virtualr148',\t'h5d_virtualr149',\t'h5d_virtualr150',\t'h5d_virtualr151',\t'h5d_virtualr152',\t'h5d_virtualr153',\t'h5d_virtualr154',\t'h5d_virtualr155',\t'h5d_virtualr156',\t'h5d_virtualr157',\t'h5d_virtualr158',\t'h5d_virtualr159',\t'h5d_virtualr160',\t'h5d_virtualr161',\t'h5d_virtualr162',\t'h5d_virtualr163',\t'h5d_virtualr164',\t'h5d_virtualr165',\t'h5d_virtualr166',\t'h5d_virtualr167',\t'h5d_virtualr168',\t'h5d_virtualr169',\t'h5d_virtualr170',\t'h5d_virtualr171',\t'h5d_virtualr172',\t'h5d_virtualr173',\t'h5d_virtualr174',\t'h5d_virtualr175',\t'h5d_virtualr176',\t'h5d_virtualr177',\t'h5d_virtualr178',\t'h5d_virtualr179',\t'h5d_virtualr180',\t'h5d_virtualr181',\t'h5d_virtualr182',\t'h5d_virtualr183',\t'h5d_virtualr184',\t'h5d_virtualr185',\t'h5d_virtualr186',\t'h5d_virtualr187',\t'h5d_virtualr188',\t'h5d_virtualr189',\t'h5d_virtualr190',\t'h5d_virtualr191',\t'h5d_virtualr192',\t'h5d_virtualr193',\t'h5e',\t'h5f',\t'h5gr1',\t'h5gr2',\t'h5gr3',\t'h5gr4',\t'h5gr5',\t'h5hr1',\t'h5hr2',\t'h5hr3',\t'h5hr4',\t'h5hr5',\t'h5hr6',\t'h5hr7',\t'h5hr8',\t'h5hr9',\t'h5hr8oe',\t'h6ar1',\t'h6ar2',\t'h6ar3',\t'h6ar4',\t'h6ar5',\t'h6ar6',\t'h6ar7',\t'h6ar8',\t'h6ar9',\t'h6ar10',\t'h6ar11',\t'h6ar12',\t'h6ar13',\t'h6ar14',\t'h6ar15',\t'h6ar16',\t'h6ar17',\t'h6ar18',\t'h6ar19',\t'h6ar20',\t'h6ar21',\t'h6ar22',\t'q7a',\t'q7b',\t'q7c',\t'q7dr1',\t'q7dr2',\t'q7dr3',\t'q7dr4',\t'q7dr5',\t'q7e',\t'q7f',\t'q7g',\t'conditionsBUSINESS',\t'conditionsmarker_virtual',\t'conditionsmarker_credit',\t'vlist']"
   ]
  },
  {
   "cell_type": "code",
   "execution_count": 10,
   "metadata": {},
   "outputs": [
    {
     "data": {
      "text/plain": [
       "0    20000003\n",
       "1    20000004\n",
       "2    20000020\n",
       "3    20000052\n",
       "4    20000054\n",
       "Name: vrec, dtype: int64"
      ]
     },
     "execution_count": 10,
     "metadata": {},
     "output_type": "execute_result"
    }
   ],
   "source": [
    "# iloc and loc are both row first, column second\n",
    "host.iloc[0]\n",
    "# Get row 3 to 5 (not including 5) from column 0\n",
    "host.iloc[3:5,0]\n",
    "# Pass a list\n",
    "host.iloc[[0,1,2,3,4],0]"
   ]
  },
  {
   "cell_type": "code",
   "execution_count": 11,
   "metadata": {},
   "outputs": [
    {
     "data": {
      "text/html": [
       "<div>\n",
       "<style scoped>\n",
       "    .dataframe tbody tr th:only-of-type {\n",
       "        vertical-align: middle;\n",
       "    }\n",
       "\n",
       "    .dataframe tbody tr th {\n",
       "        vertical-align: top;\n",
       "    }\n",
       "\n",
       "    .dataframe thead th {\n",
       "        text-align: right;\n",
       "    }\n",
       "</style>\n",
       "<table border=\"1\" class=\"dataframe\">\n",
       "  <thead>\n",
       "    <tr style=\"text-align: right;\">\n",
       "      <th></th>\n",
       "      <th>vrec</th>\n",
       "      <th>s1ar1</th>\n",
       "      <th>s1ar2</th>\n",
       "      <th>s1ar3</th>\n",
       "      <th>s1ar4</th>\n",
       "      <th>s1ar5</th>\n",
       "      <th>s1ar6</th>\n",
       "      <th>s1ar7</th>\n",
       "      <th>s1b</th>\n",
       "      <th>vRegion</th>\n",
       "      <th>...</th>\n",
       "      <th>q7dr1</th>\n",
       "      <th>q7dr2</th>\n",
       "      <th>q7dr3</th>\n",
       "      <th>q7dr4</th>\n",
       "      <th>q7dr5</th>\n",
       "      <th>q7e</th>\n",
       "      <th>q7f</th>\n",
       "      <th>q7g</th>\n",
       "      <th>s2bNew</th>\n",
       "      <th>vChange</th>\n",
       "    </tr>\n",
       "  </thead>\n",
       "  <tbody>\n",
       "    <tr>\n",
       "      <th>601</th>\n",
       "      <td>20049226</td>\n",
       "      <td>0</td>\n",
       "      <td>0</td>\n",
       "      <td>0</td>\n",
       "      <td>0</td>\n",
       "      <td>0</td>\n",
       "      <td>0</td>\n",
       "      <td>1</td>\n",
       "      <td>33</td>\n",
       "      <td>1</td>\n",
       "      <td>...</td>\n",
       "      <td>NaN</td>\n",
       "      <td>NaN</td>\n",
       "      <td>NaN</td>\n",
       "      <td>NaN</td>\n",
       "      <td>NaN</td>\n",
       "      <td>5</td>\n",
       "      <td>7</td>\n",
       "      <td>4</td>\n",
       "      <td>1.0</td>\n",
       "      <td>2</td>\n",
       "    </tr>\n",
       "    <tr>\n",
       "      <th>602</th>\n",
       "      <td>20049246</td>\n",
       "      <td>0</td>\n",
       "      <td>0</td>\n",
       "      <td>0</td>\n",
       "      <td>0</td>\n",
       "      <td>0</td>\n",
       "      <td>0</td>\n",
       "      <td>1</td>\n",
       "      <td>41</td>\n",
       "      <td>3</td>\n",
       "      <td>...</td>\n",
       "      <td>NaN</td>\n",
       "      <td>NaN</td>\n",
       "      <td>NaN</td>\n",
       "      <td>NaN</td>\n",
       "      <td>NaN</td>\n",
       "      <td>3</td>\n",
       "      <td>1</td>\n",
       "      <td>5</td>\n",
       "      <td>1.0</td>\n",
       "      <td>2</td>\n",
       "    </tr>\n",
       "    <tr>\n",
       "      <th>603</th>\n",
       "      <td>20049257</td>\n",
       "      <td>0</td>\n",
       "      <td>0</td>\n",
       "      <td>0</td>\n",
       "      <td>0</td>\n",
       "      <td>0</td>\n",
       "      <td>0</td>\n",
       "      <td>1</td>\n",
       "      <td>50</td>\n",
       "      <td>2</td>\n",
       "      <td>...</td>\n",
       "      <td>0.0</td>\n",
       "      <td>1.0</td>\n",
       "      <td>1.0</td>\n",
       "      <td>0.0</td>\n",
       "      <td>0.0</td>\n",
       "      <td>5</td>\n",
       "      <td>1</td>\n",
       "      <td>5</td>\n",
       "      <td>1.0</td>\n",
       "      <td>2</td>\n",
       "    </tr>\n",
       "    <tr>\n",
       "      <th>604</th>\n",
       "      <td>20049489</td>\n",
       "      <td>0</td>\n",
       "      <td>0</td>\n",
       "      <td>0</td>\n",
       "      <td>0</td>\n",
       "      <td>0</td>\n",
       "      <td>0</td>\n",
       "      <td>1</td>\n",
       "      <td>44</td>\n",
       "      <td>3</td>\n",
       "      <td>...</td>\n",
       "      <td>1.0</td>\n",
       "      <td>0.0</td>\n",
       "      <td>0.0</td>\n",
       "      <td>0.0</td>\n",
       "      <td>0.0</td>\n",
       "      <td>4</td>\n",
       "      <td>1</td>\n",
       "      <td>4</td>\n",
       "      <td>1.0</td>\n",
       "      <td>2</td>\n",
       "    </tr>\n",
       "    <tr>\n",
       "      <th>605</th>\n",
       "      <td>20049493</td>\n",
       "      <td>0</td>\n",
       "      <td>0</td>\n",
       "      <td>0</td>\n",
       "      <td>0</td>\n",
       "      <td>0</td>\n",
       "      <td>0</td>\n",
       "      <td>1</td>\n",
       "      <td>5</td>\n",
       "      <td>4</td>\n",
       "      <td>...</td>\n",
       "      <td>0.0</td>\n",
       "      <td>0.0</td>\n",
       "      <td>0.0</td>\n",
       "      <td>1.0</td>\n",
       "      <td>0.0</td>\n",
       "      <td>4</td>\n",
       "      <td>1</td>\n",
       "      <td>4</td>\n",
       "      <td>1.0</td>\n",
       "      <td>2</td>\n",
       "    </tr>\n",
       "  </tbody>\n",
       "</table>\n",
       "<p>5 rows × 476 columns</p>\n",
       "</div>"
      ],
      "text/plain": [
       "         vrec  s1ar1  s1ar2  s1ar3  s1ar4  s1ar5  s1ar6  s1ar7  s1b  vRegion  \\\n",
       "601  20049226      0      0      0      0      0      0      1   33        1   \n",
       "602  20049246      0      0      0      0      0      0      1   41        3   \n",
       "603  20049257      0      0      0      0      0      0      1   50        2   \n",
       "604  20049489      0      0      0      0      0      0      1   44        3   \n",
       "605  20049493      0      0      0      0      0      0      1    5        4   \n",
       "\n",
       "      ...     q7dr1  q7dr2  q7dr3  q7dr4  q7dr5  q7e  q7f  q7g  s2bNew  \\\n",
       "601   ...       NaN    NaN    NaN    NaN    NaN    5    7    4     1.0   \n",
       "602   ...       NaN    NaN    NaN    NaN    NaN    3    1    5     1.0   \n",
       "603   ...       0.0    1.0    1.0    0.0    0.0    5    1    5     1.0   \n",
       "604   ...       1.0    0.0    0.0    0.0    0.0    4    1    4     1.0   \n",
       "605   ...       0.0    0.0    0.0    1.0    0.0    4    1    4     1.0   \n",
       "\n",
       "     vChange  \n",
       "601        2  \n",
       "602        2  \n",
       "603        2  \n",
       "604        2  \n",
       "605        2  \n",
       "\n",
       "[5 rows x 476 columns]"
      ]
     },
     "execution_count": 11,
     "metadata": {},
     "output_type": "execute_result"
    }
   ],
   "source": [
    "# Review last 5 records\n",
    "host.iloc[-5:]"
   ]
  },
  {
   "cell_type": "code",
   "execution_count": 13,
   "metadata": {},
   "outputs": [],
   "source": [
    "#newHost\n",
    "#newHost=host.loc[:,columnsToKeep]"
   ]
  },
  {
   "cell_type": "code",
   "execution_count": 14,
   "metadata": {},
   "outputs": [],
   "source": [
    "# manipulating the index\n",
    "# newGuest.set_index(\"record\")\n",
    "# Below is to reset the index\n",
    "# newGuest.reset_index()"
   ]
  },
  {
   "cell_type": "code",
   "execution_count": 16,
   "metadata": {},
   "outputs": [],
   "source": [
    "#newHost.loc[[0]]"
   ]
  },
  {
   "cell_type": "code",
   "execution_count": 18,
   "metadata": {},
   "outputs": [
    {
     "data": {
      "text/plain": [
       "count    606.000000\n",
       "mean       2.919142\n",
       "std        1.530429\n",
       "min        1.000000\n",
       "25%        2.000000\n",
       "50%        3.000000\n",
       "75%        4.000000\n",
       "max       12.000000\n",
       "Name: q7b, dtype: float64"
      ]
     },
     "execution_count": 18,
     "metadata": {},
     "output_type": "execute_result"
    }
   ],
   "source": [
    "# Quick summary of data\n",
    "host.q7b.describe()"
   ]
  },
  {
   "cell_type": "code",
   "execution_count": 20,
   "metadata": {},
   "outputs": [],
   "source": [
    "# Count the frequency\n",
    "#d_stay=host.s2ar1.value_counts().sort_index().reset_index()\n",
    "#d_stay.columns=['Domestic # nights','Frequency']\n",
    "#d_stay['percentage']=d_stay.Frequency/900*100\n",
    "#print(d_stay)"
   ]
  },
  {
   "cell_type": "code",
   "execution_count": 19,
   "metadata": {},
   "outputs": [
    {
     "data": {
      "text/plain": [
       "pandas.core.frame.DataFrame"
      ]
     },
     "execution_count": 19,
     "metadata": {},
     "output_type": "execute_result"
    },
    {
     "data": {
      "image/png": "[encoded data removed]",
      "text/plain": [
       "<matplotlib.figure.Figure at 0x1cb71a88e10>"
      ]
     },
     "metadata": {},
     "output_type": "display_data"
    }
   ],
   "source": [
    "# newGuest.s2ar1.quantile([.9,1])\n",
    "# boxplot\n",
    "cols=['q7b']\n",
    "questions=newHost[cols]\n",
    "sns.boxplot(data=questions)\n",
    "questions.describe()\n",
    "type(questions)"
   ]
  },
  {
   "cell_type": "code",
   "execution_count": 20,
   "metadata": {
    "scrolled": true
   },
   "outputs": [
    {
     "name": "stdout",
     "output_type": "stream",
     "text": [
      "q7b: [8, 9, 10, 11, 12]\n",
      "[[8, 9, 10, 11, 12]]\n"
     ]
    }
   ],
   "source": [
    "outliers=[]\n",
    "def find_outliers(data):\n",
    "    threshold=3\n",
    "    mean=np.mean(data)\n",
    "    std=np.std(data)  \n",
    "    for x in data:\n",
    "        z_score=(x-mean)/std\n",
    "        if np.abs(z_score)>threshold:\n",
    "            outliers.append(x)\n",
    "    outlierSet=set(outliers)\n",
    "    return outlierSet\n",
    "\n",
    "def find_outliers_list(myDF):\n",
    "    outlierList=[]\n",
    "    outliers=[]\n",
    "    dic={}\n",
    "    threshold=3\n",
    "    columns=list(myDF)\n",
    "    for column in columns:\n",
    "        mean=np.mean(myDF[column])\n",
    "        std=np.std(myDF[column])  \n",
    "        for x in myDF[column]:\n",
    "            z_score=(x-mean)/std\n",
    "            if np.abs(z_score)>threshold:\n",
    "                outliers.append(x)\n",
    "        outlierSet=set(outliers)\n",
    "        outlierList.append(sorted(outlierSet))\n",
    "    return outlierList\n",
    "\n",
    "q7b=find_outliers(newHost.q7b)\n",
    "\n",
    "outList=find_outliers_list(questions)\n",
    "\n",
    "\n",
    "print('q7b:',sorted(q7b))\n",
    "print(outList)"
   ]
  },
  {
   "cell_type": "code",
   "execution_count": 19,
   "metadata": {},
   "outputs": [
    {
     "data": {
      "text/plain": [
       "s2ar1\n",
       "0      6\n",
       "1     12\n",
       "2     82\n",
       "3     76\n",
       "4     80\n",
       "5     83\n",
       "6     62\n",
       "7     29\n",
       "8     38\n",
       "9     10\n",
       "10    93\n",
       "11     2\n",
       "12    33\n",
       "13     3\n",
       "14    19\n",
       "15    45\n",
       "16     9\n",
       "17     2\n",
       "18     3\n",
       "19     1\n",
       "20    61\n",
       "21    10\n",
       "22     4\n",
       "23     2\n",
       "24    10\n",
       "25    27\n",
       "26     2\n",
       "28     7\n",
       "30    35\n",
       "31     1\n",
       "32     1\n",
       "35     5\n",
       "40     7\n",
       "42     1\n",
       "45     6\n",
       "48     1\n",
       "50     9\n",
       "55     1\n",
       "60    12\n",
       "75     2\n",
       "80     2\n",
       "99     6\n",
       "dtype: int64"
      ]
     },
     "execution_count": 19,
     "metadata": {},
     "output_type": "execute_result"
    }
   ],
   "source": [
    "newGuest.groupby('s2ar1').size()"
   ]
  },
  {
   "cell_type": "code",
   "execution_count": 34,
   "metadata": {},
   "outputs": [
    {
     "data": {
      "text/plain": [
       "vCell\n",
       "1    300\n",
       "2    300\n",
       "3    300\n",
       "Name: G10b, dtype: int64"
      ]
     },
     "execution_count": 34,
     "metadata": {},
     "output_type": "execute_result"
    }
   ],
   "source": [
    "vCell=newGuest.groupby('vCell')\n",
    "vCell['G10b'].count()"
   ]
  },
  {
   "cell_type": "code",
   "execution_count": 37,
   "metadata": {},
   "outputs": [
    {
     "data": {
      "text/html": [
       "<div>\n",
       "<style scoped>\n",
       "    .dataframe tbody tr th:only-of-type {\n",
       "        vertical-align: middle;\n",
       "    }\n",
       "\n",
       "    .dataframe tbody tr th {\n",
       "        vertical-align: top;\n",
       "    }\n",
       "\n",
       "    .dataframe thead th {\n",
       "        text-align: right;\n",
       "    }\n",
       "</style>\n",
       "<table border=\"1\" class=\"dataframe\">\n",
       "  <thead>\n",
       "    <tr style=\"text-align: right;\">\n",
       "      <th></th>\n",
       "      <th>record</th>\n",
       "      <th>s1ar1</th>\n",
       "      <th>s1ar2</th>\n",
       "      <th>s1ar3</th>\n",
       "      <th>s1ar4</th>\n",
       "      <th>s1ar5</th>\n",
       "      <th>s1ar6</th>\n",
       "      <th>s1ar7</th>\n",
       "      <th>s1ar8</th>\n",
       "      <th>s1b</th>\n",
       "      <th>...</th>\n",
       "      <th>G12dr3</th>\n",
       "      <th>G12dr4</th>\n",
       "      <th>G12dr5</th>\n",
       "      <th>G12e</th>\n",
       "      <th>G12f</th>\n",
       "      <th>G12g</th>\n",
       "      <th>conditionsmarker_Savings</th>\n",
       "      <th>conditionsmarker_Credit</th>\n",
       "      <th>conditionsmarker_Loan</th>\n",
       "      <th>vlist</th>\n",
       "    </tr>\n",
       "  </thead>\n",
       "  <tbody>\n",
       "    <tr>\n",
       "      <th>count</th>\n",
       "      <td>900.000000</td>\n",
       "      <td>900.0</td>\n",
       "      <td>900.0</td>\n",
       "      <td>900.0</td>\n",
       "      <td>900.0</td>\n",
       "      <td>900.0</td>\n",
       "      <td>900.0</td>\n",
       "      <td>900.0</td>\n",
       "      <td>900.0</td>\n",
       "      <td>900.000000</td>\n",
       "      <td>...</td>\n",
       "      <td>296.000000</td>\n",
       "      <td>296.000000</td>\n",
       "      <td>296.000000</td>\n",
       "      <td>900.000000</td>\n",
       "      <td>900.000000</td>\n",
       "      <td>900.000000</td>\n",
       "      <td>900.000000</td>\n",
       "      <td>900.000000</td>\n",
       "      <td>900.000000</td>\n",
       "      <td>900.000000</td>\n",
       "    </tr>\n",
       "    <tr>\n",
       "      <th>mean</th>\n",
       "      <td>1271.833333</td>\n",
       "      <td>0.0</td>\n",
       "      <td>0.0</td>\n",
       "      <td>0.0</td>\n",
       "      <td>0.0</td>\n",
       "      <td>0.0</td>\n",
       "      <td>0.0</td>\n",
       "      <td>0.0</td>\n",
       "      <td>1.0</td>\n",
       "      <td>23.932222</td>\n",
       "      <td>...</td>\n",
       "      <td>0.371622</td>\n",
       "      <td>0.415541</td>\n",
       "      <td>0.189189</td>\n",
       "      <td>3.957778</td>\n",
       "      <td>2.456667</td>\n",
       "      <td>4.033333</td>\n",
       "      <td>0.333333</td>\n",
       "      <td>0.333333</td>\n",
       "      <td>0.333333</td>\n",
       "      <td>1.996667</td>\n",
       "    </tr>\n",
       "    <tr>\n",
       "      <th>std</th>\n",
       "      <td>772.301646</td>\n",
       "      <td>0.0</td>\n",
       "      <td>0.0</td>\n",
       "      <td>0.0</td>\n",
       "      <td>0.0</td>\n",
       "      <td>0.0</td>\n",
       "      <td>0.0</td>\n",
       "      <td>0.0</td>\n",
       "      <td>0.0</td>\n",
       "      <td>14.723815</td>\n",
       "      <td>...</td>\n",
       "      <td>0.484056</td>\n",
       "      <td>0.493650</td>\n",
       "      <td>0.392322</td>\n",
       "      <td>0.871241</td>\n",
       "      <td>2.217162</td>\n",
       "      <td>1.671258</td>\n",
       "      <td>0.471667</td>\n",
       "      <td>0.471667</td>\n",
       "      <td>0.471667</td>\n",
       "      <td>0.816263</td>\n",
       "    </tr>\n",
       "    <tr>\n",
       "      <th>min</th>\n",
       "      <td>3.000000</td>\n",
       "      <td>0.0</td>\n",
       "      <td>0.0</td>\n",
       "      <td>0.0</td>\n",
       "      <td>0.0</td>\n",
       "      <td>0.0</td>\n",
       "      <td>0.0</td>\n",
       "      <td>0.0</td>\n",
       "      <td>1.0</td>\n",
       "      <td>1.000000</td>\n",
       "      <td>...</td>\n",
       "      <td>0.000000</td>\n",
       "      <td>0.000000</td>\n",
       "      <td>0.000000</td>\n",
       "      <td>1.000000</td>\n",
       "      <td>1.000000</td>\n",
       "      <td>1.000000</td>\n",
       "      <td>0.000000</td>\n",
       "      <td>0.000000</td>\n",
       "      <td>0.000000</td>\n",
       "      <td>1.000000</td>\n",
       "    </tr>\n",
       "    <tr>\n",
       "      <th>25%</th>\n",
       "      <td>719.500000</td>\n",
       "      <td>0.0</td>\n",
       "      <td>0.0</td>\n",
       "      <td>0.0</td>\n",
       "      <td>0.0</td>\n",
       "      <td>0.0</td>\n",
       "      <td>0.0</td>\n",
       "      <td>0.0</td>\n",
       "      <td>1.0</td>\n",
       "      <td>10.000000</td>\n",
       "      <td>...</td>\n",
       "      <td>0.000000</td>\n",
       "      <td>0.000000</td>\n",
       "      <td>0.000000</td>\n",
       "      <td>3.000000</td>\n",
       "      <td>1.000000</td>\n",
       "      <td>3.000000</td>\n",
       "      <td>0.000000</td>\n",
       "      <td>0.000000</td>\n",
       "      <td>0.000000</td>\n",
       "      <td>1.000000</td>\n",
       "    </tr>\n",
       "    <tr>\n",
       "      <th>50%</th>\n",
       "      <td>1107.500000</td>\n",
       "      <td>0.0</td>\n",
       "      <td>0.0</td>\n",
       "      <td>0.0</td>\n",
       "      <td>0.0</td>\n",
       "      <td>0.0</td>\n",
       "      <td>0.0</td>\n",
       "      <td>0.0</td>\n",
       "      <td>1.0</td>\n",
       "      <td>23.000000</td>\n",
       "      <td>...</td>\n",
       "      <td>0.000000</td>\n",
       "      <td>0.000000</td>\n",
       "      <td>0.000000</td>\n",
       "      <td>4.000000</td>\n",
       "      <td>1.000000</td>\n",
       "      <td>4.000000</td>\n",
       "      <td>0.000000</td>\n",
       "      <td>0.000000</td>\n",
       "      <td>0.000000</td>\n",
       "      <td>2.000000</td>\n",
       "    </tr>\n",
       "    <tr>\n",
       "      <th>75%</th>\n",
       "      <td>1645.250000</td>\n",
       "      <td>0.0</td>\n",
       "      <td>0.0</td>\n",
       "      <td>0.0</td>\n",
       "      <td>0.0</td>\n",
       "      <td>0.0</td>\n",
       "      <td>0.0</td>\n",
       "      <td>0.0</td>\n",
       "      <td>1.0</td>\n",
       "      <td>36.000000</td>\n",
       "      <td>...</td>\n",
       "      <td>1.000000</td>\n",
       "      <td>1.000000</td>\n",
       "      <td>0.000000</td>\n",
       "      <td>5.000000</td>\n",
       "      <td>3.000000</td>\n",
       "      <td>5.000000</td>\n",
       "      <td>1.000000</td>\n",
       "      <td>1.000000</td>\n",
       "      <td>1.000000</td>\n",
       "      <td>3.000000</td>\n",
       "    </tr>\n",
       "    <tr>\n",
       "      <th>max</th>\n",
       "      <td>3041.000000</td>\n",
       "      <td>0.0</td>\n",
       "      <td>0.0</td>\n",
       "      <td>0.0</td>\n",
       "      <td>0.0</td>\n",
       "      <td>0.0</td>\n",
       "      <td>0.0</td>\n",
       "      <td>0.0</td>\n",
       "      <td>1.0</td>\n",
       "      <td>51.000000</td>\n",
       "      <td>...</td>\n",
       "      <td>1.000000</td>\n",
       "      <td>1.000000</td>\n",
       "      <td>1.000000</td>\n",
       "      <td>6.000000</td>\n",
       "      <td>8.000000</td>\n",
       "      <td>8.000000</td>\n",
       "      <td>1.000000</td>\n",
       "      <td>1.000000</td>\n",
       "      <td>1.000000</td>\n",
       "      <td>3.000000</td>\n",
       "    </tr>\n",
       "  </tbody>\n",
       "</table>\n",
       "<p>8 rows × 784 columns</p>\n",
       "</div>"
      ],
      "text/plain": [
       "            record  s1ar1  s1ar2  s1ar3  s1ar4  s1ar5  s1ar6  s1ar7  s1ar8  \\\n",
       "count   900.000000  900.0  900.0  900.0  900.0  900.0  900.0  900.0  900.0   \n",
       "mean   1271.833333    0.0    0.0    0.0    0.0    0.0    0.0    0.0    1.0   \n",
       "std     772.301646    0.0    0.0    0.0    0.0    0.0    0.0    0.0    0.0   \n",
       "min       3.000000    0.0    0.0    0.0    0.0    0.0    0.0    0.0    1.0   \n",
       "25%     719.500000    0.0    0.0    0.0    0.0    0.0    0.0    0.0    1.0   \n",
       "50%    1107.500000    0.0    0.0    0.0    0.0    0.0    0.0    0.0    1.0   \n",
       "75%    1645.250000    0.0    0.0    0.0    0.0    0.0    0.0    0.0    1.0   \n",
       "max    3041.000000    0.0    0.0    0.0    0.0    0.0    0.0    0.0    1.0   \n",
       "\n",
       "              s1b     ...          G12dr3      G12dr4      G12dr5        G12e  \\\n",
       "count  900.000000     ...      296.000000  296.000000  296.000000  900.000000   \n",
       "mean    23.932222     ...        0.371622    0.415541    0.189189    3.957778   \n",
       "std     14.723815     ...        0.484056    0.493650    0.392322    0.871241   \n",
       "min      1.000000     ...        0.000000    0.000000    0.000000    1.000000   \n",
       "25%     10.000000     ...        0.000000    0.000000    0.000000    3.000000   \n",
       "50%     23.000000     ...        0.000000    0.000000    0.000000    4.000000   \n",
       "75%     36.000000     ...        1.000000    1.000000    0.000000    5.000000   \n",
       "max     51.000000     ...        1.000000    1.000000    1.000000    6.000000   \n",
       "\n",
       "             G12f        G12g  conditionsmarker_Savings  \\\n",
       "count  900.000000  900.000000                900.000000   \n",
       "mean     2.456667    4.033333                  0.333333   \n",
       "std      2.217162    1.671258                  0.471667   \n",
       "min      1.000000    1.000000                  0.000000   \n",
       "25%      1.000000    3.000000                  0.000000   \n",
       "50%      1.000000    4.000000                  0.000000   \n",
       "75%      3.000000    5.000000                  1.000000   \n",
       "max      8.000000    8.000000                  1.000000   \n",
       "\n",
       "       conditionsmarker_Credit  conditionsmarker_Loan       vlist  \n",
       "count               900.000000             900.000000  900.000000  \n",
       "mean                  0.333333               0.333333    1.996667  \n",
       "std                   0.471667               0.471667    0.816263  \n",
       "min                   0.000000               0.000000    1.000000  \n",
       "25%                   0.000000               0.000000    1.000000  \n",
       "50%                   0.000000               0.000000    2.000000  \n",
       "75%                   1.000000               1.000000    3.000000  \n",
       "max                   1.000000               1.000000    3.000000  \n",
       "\n",
       "[8 rows x 784 columns]"
      ]
     },
     "execution_count": 37,
     "metadata": {},
     "output_type": "execute_result"
    }
   ],
   "source": [
    "newGuest.describe()"
   ]
  },
  {
   "cell_type": "markdown",
   "metadata": {},
   "source": [
    "## Check tabs"
   ]
  },
  {
   "cell_type": "code",
   "execution_count": 21,
   "metadata": {},
   "outputs": [],
   "source": [
    "description=host.describe()\n",
    "description.to_excel('description.xlsx', sheet_name='description')"
   ]
  },
  {
   "cell_type": "code",
   "execution_count": 22,
   "metadata": {},
   "outputs": [
    {
     "data": {
      "text/plain": [
       "vCell  s1c\n",
       "1      1      171\n",
       "       2      132\n",
       "2      1      172\n",
       "       2      131\n",
       "Name: s1c, dtype: int64"
      ]
     },
     "execution_count": 22,
     "metadata": {},
     "output_type": "execute_result"
    }
   ],
   "source": [
    "# Check Gender group by two concept\n",
    "host.s1c.value_counts().sort_index()\n",
    "host.groupby('vCell')['s1c'].value_counts().sort_index()"
   ]
  },
  {
   "cell_type": "code",
   "execution_count": 24,
   "metadata": {},
   "outputs": [
    {
     "data": {
      "text/plain": [
       "vCell  vAge\n",
       "1      1       162\n",
       "       2        94\n",
       "       3        47\n",
       "2      1       160\n",
       "       2       102\n",
       "       3        41\n",
       "Name: vAge, dtype: int64"
      ]
     },
     "execution_count": 24,
     "metadata": {},
     "output_type": "execute_result"
    }
   ],
   "source": [
    "# Check Age group by two concept\n",
    "host.vAge.value_counts().sort_index()\n",
    "host.groupby('vCell')['vAge'].value_counts().sort_index()"
   ]
  },
  {
   "cell_type": "code",
   "execution_count": 26,
   "metadata": {},
   "outputs": [],
   "source": [
    "# Check Age group by two concept\n",
    "host.q7g.value_counts().sort_index()\n",
    "HHIncomeBanner=host.groupby('vCell')['q7g'].value_counts().sort_index()\n",
    "# Write to excel file\n",
    "HHIncomeBanner.to_excel('HHIncomeBannerHost.xlsx', sheet_name='testHead')"
   ]
  },
  {
   "cell_type": "code",
   "execution_count": 27,
   "metadata": {},
   "outputs": [
    {
     "data": {
      "text/plain": [
       "vCell  s2d\n",
       "1      2       29\n",
       "       3      116\n",
       "       4       80\n",
       "       5       40\n",
       "       6       17\n",
       "       7       21\n",
       "2      2       29\n",
       "       3      116\n",
       "       4       88\n",
       "       5       38\n",
       "       6       12\n",
       "       7       20\n",
       "Name: s2d, dtype: int64"
      ]
     },
     "execution_count": 27,
     "metadata": {},
     "output_type": "execute_result"
    }
   ],
   "source": [
    "# Check Number of times by two concept\n",
    "host.s2d.value_counts().sort_index()\n",
    "host.groupby('vCell')['s2d'].value_counts().sort_index()"
   ]
  },
  {
   "cell_type": "code",
   "execution_count": 29,
   "metadata": {},
   "outputs": [
    {
     "data": {
      "text/plain": [
       "vCell  h3f\n",
       "1      1      16\n",
       "       2      43\n",
       "       3      76\n",
       "       4      69\n",
       "       5      47\n",
       "       6      52\n",
       "2      1      12\n",
       "       2      47\n",
       "       3      85\n",
       "       4      76\n",
       "       5      41\n",
       "       6      42\n",
       "Name: h3f, dtype: int64"
      ]
     },
     "execution_count": 29,
     "metadata": {},
     "output_type": "execute_result"
    }
   ],
   "source": [
    "# Check Number of times by two concept\n",
    "host.h3f.value_counts().sort_index()\n",
    "host.groupby('vCell')['h3f'].value_counts().sort_index()"
   ]
  },
  {
   "cell_type": "code",
   "execution_count": 32,
   "metadata": {},
   "outputs": [
    {
     "data": {
      "text/plain": [
       "1    303\n",
       "2    303\n",
       "Name: vCell, dtype: int64"
      ]
     },
     "execution_count": 32,
     "metadata": {},
     "output_type": "execute_result"
    }
   ],
   "source": [
    "host.vCell.value_counts().sort_index()"
   ]
  },
  {
   "cell_type": "code",
   "execution_count": 33,
   "metadata": {},
   "outputs": [
    {
     "data": {
      "text/plain": [
       "3      39\n",
       "4     122\n",
       "5     161\n",
       "6     112\n",
       "7      57\n",
       "8      27\n",
       "9      30\n",
       "10     17\n",
       "11     19\n",
       "12     15\n",
       "13      7\n",
       "Name: s1d, dtype: int64"
      ]
     },
     "execution_count": 33,
     "metadata": {},
     "output_type": "execute_result"
    }
   ],
   "source": [
    "host.s1d.value_counts().sort_index()"
   ]
  },
  {
   "cell_type": "code",
   "execution_count": null,
   "metadata": {},
   "outputs": [],
   "source": []
  }
 ],
 "metadata": {
  "kernelspec": {
   "display_name": "Python 3",
   "language": "python",
   "name": "python3"
  },
  "language_info": {
   "codemirror_mode": {
    "name": "ipython",
    "version": 3
   },
   "file_extension": ".py",
   "mimetype": "text/x-python",
   "name": "python",
   "nbconvert_exporter": "python",
   "pygments_lexer": "ipython3",
   "version": "3.6.4"
  }
 },
 "nbformat": 4,
 "nbformat_minor": 2
}
